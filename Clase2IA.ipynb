{
  "nbformat": 4,
  "nbformat_minor": 0,
  "metadata": {
    "colab": {
      "provenance": [],
      "authorship_tag": "ABX9TyPxk2yIBZ82BjU44v1AymKH",
      "include_colab_link": true
    },
    "kernelspec": {
      "name": "python3",
      "display_name": "Python 3"
    },
    "language_info": {
      "name": "python"
    }
  },
  "cells": [
    {
      "cell_type": "markdown",
      "metadata": {
        "id": "view-in-github",
        "colab_type": "text"
      },
      "source": [
        "<a href=\"https://colab.research.google.com/github/AngieZ10/ai2023angie/blob/main/Clase2IA.ipynb\" target=\"_parent\"><img src=\"https://colab.research.google.com/assets/colab-badge.svg\" alt=\"Open In Colab\"/></a>"
      ]
    },
    {
      "cell_type": "code",
      "execution_count": 2,
      "metadata": {
        "colab": {
          "base_uri": "https://localhost:8080/"
        },
        "id": "rqQWnAq5HkHs",
        "outputId": "6d022a09-8cc1-4d29-a253-2786335f401e"
      },
      "outputs": [
        {
          "output_type": "stream",
          "name": "stdout",
          "text": [
            "<class 'dict'>\n",
            "key cat, value cute\n",
            "key cat, value cute\n",
            "the key is: cat and the value: cute\n",
            "key dog, value fat\n",
            "key dog, value fat\n",
            "the key is: dog and the value: fat\n",
            "key lion, value strong\n",
            "key lion, value strong\n",
            "the key is: lion and the value: strong\n",
            "---------------------\n",
            "{'cat': 'cute', 'dog': 'fat', 'lion': 'strong', 'monkey': 'so cute'}\n"
          ]
        }
      ],
      "source": [
        "myDictionary={\"cat\" : \"cute\",\"dog\":\"fat\",\"lion\":\"strong\"}\n",
        "\n",
        "print(type(myDictionary))\n",
        "\n",
        "for key, value in myDictionary.items():\n",
        "  print(f'key {key}, value {value}')\n",
        "  print('key %s, value %s'%(key, value))\n",
        "  print('the key is: {} and the value: {}'.format(key, value))\n",
        "myDictionary['monkey']='so cute'\n",
        "\n",
        "print('---------------------')\n",
        "print(myDictionary)"
      ]
    },
    {
      "cell_type": "code",
      "source": [
        "tmp=list()\n",
        "\n",
        "for i in range(1,101,1):\n",
        "  if i%2==0:\n",
        "    tmp.append(i)\n",
        "print(tmp)\n",
        "print('---------------------')\n",
        "aux=[i for i in range (1,101) if i%2==0]\n",
        "print(aux)"
      ],
      "metadata": {
        "colab": {
          "base_uri": "https://localhost:8080/"
        },
        "id": "5b_6rEVGJVCz",
        "outputId": "ac0d6ad4-3ece-4b98-ee9e-fa8bcb644913"
      },
      "execution_count": 7,
      "outputs": [
        {
          "output_type": "stream",
          "name": "stdout",
          "text": [
            "[2, 4, 6, 8, 10, 12, 14, 16, 18, 20, 22, 24, 26, 28, 30, 32, 34, 36, 38, 40, 42, 44, 46, 48, 50, 52, 54, 56, 58, 60, 62, 64, 66, 68, 70, 72, 74, 76, 78, 80, 82, 84, 86, 88, 90, 92, 94, 96, 98, 100]\n",
            "---------------------\n",
            "[2, 4, 6, 8, 10, 12, 14, 16, 18, 20, 22, 24, 26, 28, 30, 32, 34, 36, 38, 40, 42, 44, 46, 48, 50, 52, 54, 56, 58, 60, 62, 64, 66, 68, 70, 72, 74, 76, 78, 80, 82, 84, 86, 88, 90, 92, 94, 96, 98, 100]\n"
          ]
        }
      ]
    },
    {
      "cell_type": "code",
      "source": [
        "tmpList=[i**2 for i in range(1,101) if i%2==0]\n",
        "print(tmpList)"
      ],
      "metadata": {
        "colab": {
          "base_uri": "https://localhost:8080/"
        },
        "id": "-Yk8TJRtKzhy",
        "outputId": "fd783c16-4679-4676-b632-ad201e18e4ac"
      },
      "execution_count": 8,
      "outputs": [
        {
          "output_type": "stream",
          "name": "stdout",
          "text": [
            "[4, 16, 36, 64, 100, 144, 196, 256, 324, 400, 484, 576, 676, 784, 900, 1024, 1156, 1296, 1444, 1600, 1764, 1936, 2116, 2304, 2500, 2704, 2916, 3136, 3364, 3600, 3844, 4096, 4356, 4624, 4900, 5184, 5476, 5776, 6084, 6400, 6724, 7056, 7396, 7744, 8100, 8464, 8836, 9216, 9604, 10000]\n"
          ]
        }
      ]
    },
    {
      "cell_type": "code",
      "source": [
        "def upperCase(valString):\n",
        "  pass"
      ],
      "metadata": {
        "id": "FxHYv8biLUq2"
      },
      "execution_count": null,
      "outputs": []
    }
  ]
}