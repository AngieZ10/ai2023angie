{
  "nbformat": 4,
  "nbformat_minor": 0,
  "metadata": {
    "colab": {
      "provenance": [],
      "authorship_tag": "ABX9TyNoQw3xQUBi8oNQH9G/Rfo6",
      "include_colab_link": true
    },
    "kernelspec": {
      "name": "python3",
      "display_name": "Python 3"
    },
    "language_info": {
      "name": "python"
    }
  },
  "cells": [
    {
      "cell_type": "markdown",
      "metadata": {
        "id": "view-in-github",
        "colab_type": "text"
      },
      "source": [
        "<a href=\"https://colab.research.google.com/github/AngieZ10/ai2023angie/blob/main/Evaluacion_P2_IA.ipynb\" target=\"_parent\"><img src=\"https://colab.research.google.com/assets/colab-badge.svg\" alt=\"Open In Colab\"/></a>"
      ]
    },
    {
      "cell_type": "markdown",
      "source": [
        "**EXAMEN DEL SEGUNDO PARCIAL - INTELIGENCIA ARTIFICIAL**"
      ],
      "metadata": {
        "id": "M48meeQ__Uew"
      }
    },
    {
      "cell_type": "markdown",
      "source": [
        "**Estudiante:** Angie Mayerli Zambrano Zambrano"
      ],
      "metadata": {
        "id": "vxwRx9fq_fHO"
      }
    },
    {
      "cell_type": "code",
      "execution_count": 2,
      "metadata": {
        "id": "s8wkPhtf-73R"
      },
      "outputs": [],
      "source": [
        "import pandas as pd"
      ]
    },
    {
      "cell_type": "code",
      "source": [
        "url=\"https://raw.githubusercontent.com/Sinchiguano/ai_googleColab/main/datasetUleamMl/daily_weather.csv\"\n",
        "df=pd.read_csv(url)"
      ],
      "metadata": {
        "id": "i0kDpe2U_TpA"
      },
      "execution_count": 3,
      "outputs": []
    },
    {
      "cell_type": "code",
      "source": [],
      "metadata": {
        "id": "TzKyCHVo_Tse"
      },
      "execution_count": 2,
      "outputs": []
    },
    {
      "cell_type": "code",
      "source": [],
      "metadata": {
        "id": "eNGayboJ_Tvw"
      },
      "execution_count": 2,
      "outputs": []
    },
    {
      "cell_type": "code",
      "source": [],
      "metadata": {
        "id": "waQLJyp5_Ty2"
      },
      "execution_count": 2,
      "outputs": []
    },
    {
      "cell_type": "code",
      "source": [],
      "metadata": {
        "id": "iHpOKoHq_T2O"
      },
      "execution_count": 2,
      "outputs": []
    },
    {
      "cell_type": "code",
      "source": [],
      "metadata": {
        "id": "wlYoSFav_T5W"
      },
      "execution_count": 2,
      "outputs": []
    },
    {
      "cell_type": "code",
      "source": [],
      "metadata": {
        "id": "DkrUqxEi_T8U"
      },
      "execution_count": 2,
      "outputs": []
    }
  ]
}